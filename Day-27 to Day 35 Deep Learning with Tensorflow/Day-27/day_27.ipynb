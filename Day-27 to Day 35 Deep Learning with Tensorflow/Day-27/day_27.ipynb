{
 "cells": [
  {
   "cell_type": "code",
   "execution_count": null,
   "metadata": {},
   "outputs": [],
   "source": [
    "cd Downloads\n",
    "mkdir Shaheer Ali Repository\n",
    "#copy the link of github repository\n",
    "# git clone https://github.com/shaheeralics/Python-Ka-Chilla-Practice.git\n",
    "# git status\n",
    "# git add readme.md\n",
    "# git status\n",
    "# git commit -m \"readme.md file added\"\n",
    "# git config --global user.email \"you@example.com\"\n",
    "# git config --global user.name \"user_name\"\n",
    "same for deletion\n",
    "\n",
    "# git push [URL of github account] but this will not work because we have to download the token and it is very difficult work.\n",
    "assan kaam ye hai ke arram se vs code se github open karei aur waha per changes kar saktei hai , files create kar saktei hai, aur phir changes commit kar saktei hai.\n"
   ]
  }
 ],
 "metadata": {
  "kernelspec": {
   "display_name": "tf_env",
   "language": "python",
   "name": "python3"
  },
  "language_info": {
   "codemirror_mode": {
    "name": "ipython",
    "version": 3
   },
   "file_extension": ".py",
   "mimetype": "text/x-python",
   "name": "python",
   "nbconvert_exporter": "python",
   "pygments_lexer": "ipython3",
   "version": "3.9.18"
  }
 },
 "nbformat": 4,
 "nbformat_minor": 2
}
