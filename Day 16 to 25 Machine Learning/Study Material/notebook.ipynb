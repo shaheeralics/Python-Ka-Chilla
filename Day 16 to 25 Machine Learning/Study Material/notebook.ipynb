{
 "cells": [
  {
   "cell_type": "markdown",
   "metadata": {},
   "source": [
    "# Best Libraries for Machine Learning Libraries in Python\n",
    "These libraries are important for everyone who are planing to be a machine learning engineer or data scientist.\n",
    "\n",
    "_**This notebook is prepared by Dr. Muhammad Aammar Tufail for the plateform of [Codanics Youtube Channel](https://youtube.com/playlist?list=PL9XvIvvVL50HHzaLPtFBOuikAWa0JdhMW)-A free learning plateform in Urdu**_"
   ]
  },
  {
   "cell_type": "markdown",
   "metadata": {},
   "source": [
    "1. [Numpy](https://numpy.org/)\n",
    "2. [Pandas](https://pandas.pydata.org/)\n",
    "3. [SciPy](https://scipy.org/)\n",
    "4. [Scikit-learn](https://scikit-learn.org/)\n",
    "5. [TensorFlow](https://www.tensorflow.org/)\n",
    "6. [theano](https://theano-pymc.readthedocs.io/)\n",
    "7. [keras](https://keras.io/)\n",
    "8. [pytorch](https://pytorch.org/)\n",
    "9.  [openCV](https://opencv.org/)\n",
    "10. [matplotlib](https://matplotlib.org/)"
   ]
  },
  {
   "cell_type": "markdown",
   "metadata": {},
   "source": []
  },
  {
   "cell_type": "markdown",
   "metadata": {},
   "source": []
  }
 ],
 "metadata": {
  "interpreter": {
   "hash": "7b4827317cb1da5ab29c4ae6a139d61110661268945a181f75cec22b11dc93e7"
  },
  "kernelspec": {
   "display_name": "Python 3.10.2 ('pythonchilla')",
   "language": "python",
   "name": "python3"
  },
  "language_info": {
   "name": "python",
   "version": "3.10.2"
  },
  "orig_nbformat": 4
 },
 "nbformat": 4,
 "nbformat_minor": 2
}
