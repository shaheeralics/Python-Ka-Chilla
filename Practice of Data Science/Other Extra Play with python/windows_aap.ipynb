{
 "cells": [
  {
   "cell_type": "markdown",
   "metadata": {},
   "source": [
    "# Make Windows App in Python"
   ]
  },
  {
   "cell_type": "code",
   "execution_count": null,
   "metadata": {},
   "outputs": [],
   "source": [
    "pip install tkinter"
   ]
  },
  {
   "cell_type": "markdown",
   "metadata": {},
   "source": [
    "## Basic Concept"
   ]
  },
  {
   "cell_type": "code",
   "execution_count": null,
   "metadata": {},
   "outputs": [],
   "source": [
    "import tkinter as tk\n",
    "\n",
    "def on_button_click():\n",
    "    label.config(text=\"Hello, \" + entry.get())\n",
    "\n",
    "# Create the main window\n",
    "app = tk.Tk()\n",
    "app.title(\"Python Windows App\")\n",
    "\n",
    "# Create and pack widgets\n",
    "label = tk.Label(app, text=\"Enter your name:\")\n",
    "label.pack()\n",
    "\n",
    "entry = tk.Entry(app)\n",
    "entry.pack()\n",
    "\n",
    "button = tk.Button(app, text=\"Say Hello\", command=on_button_click)\n",
    "button.pack()\n",
    "\n",
    "# Start the application\n",
    "app.mainloop()\n"
   ]
  },
  {
   "cell_type": "markdown",
   "metadata": {},
   "source": [
    "## Basic aap for total qaza namaz counter"
   ]
  },
  {
   "cell_type": "code",
   "execution_count": null,
   "metadata": {},
   "outputs": [],
   "source": [
    "import tkinter as tk\n",
    "\n",
    "class QazaNamazCounterApp:\n",
    "    def __init__(self, master):\n",
    "        self.master = master\n",
    "        self.master.title(\"Qaza Namaz Counter\")\n",
    "\n",
    "        # Variables to store the counts\n",
    "        self.fajr_count = tk.IntVar()\n",
    "        self.dhuhr_count = tk.IntVar()\n",
    "        self.asr_count = tk.IntVar()\n",
    "        self.maghrib_count = tk.IntVar()\n",
    "        self.isha_count = tk.IntVar()\n",
    "\n",
    "        # Create and pack widgets\n",
    "        tk.Label(master, text=\"Qaza Namaz Counter\", font=(\"Helvetica\", 16)).grid(row=0, column=0, columnspan=2, pady=10)\n",
    "\n",
    "        tk.Label(master, text=\"Fajr:\").grid(row=1, column=0)\n",
    "        tk.Entry(master, textvariable=self.fajr_count).grid(row=1, column=1)\n",
    "\n",
    "        tk.Label(master, text=\"Dhuhr:\").grid(row=2, column=0)\n",
    "        tk.Entry(master, textvariable=self.dhuhr_count).grid(row=2, column=1)\n",
    "\n",
    "        tk.Label(master, text=\"Asr:\").grid(row=3, column=0)\n",
    "        tk.Entry(master, textvariable=self.asr_count).grid(row=3, column=1)\n",
    "\n",
    "        tk.Label(master, text=\"Maghrib:\").grid(row=4, column=0)\n",
    "        tk.Entry(master, textvariable=self.maghrib_count).grid(row=4, column=1)\n",
    "\n",
    "        tk.Label(master, text=\"Isha:\").grid(row=5, column=0)\n",
    "        tk.Entry(master, textvariable=self.isha_count).grid(row=5, column=1)\n",
    "\n",
    "        tk.Button(master, text=\"Submit\", command=self.display_counts).grid(row=6, column=0, columnspan=2, pady=10)\n",
    "\n",
    "    def display_counts(self):\n",
    "        # Retrieve counts and display\n",
    "        fajr = self.fajr_count.get()\n",
    "        dhuhr = self.dhuhr_count.get()\n",
    "        asr = self.asr_count.get()\n",
    "        maghrib = self.maghrib_count.get()\n",
    "        isha = self.isha_count.get()\n",
    "\n",
    "        total = fajr + dhuhr + asr + maghrib + isha\n",
    "\n",
    "        result_text = f\"Total Qaza Namaz: {total}\\n\"\n",
    "        result_text += f\"Fajr: {fajr}\\nDhuhr: {dhuhr}\\nAsr: {asr}\\nMaghrib: {maghrib}\\nIsha: {isha}\"\n",
    "\n",
    "        result_window = tk.Toplevel(self.master)\n",
    "        result_window.title(\"Qaza Namaz Summary\")\n",
    "\n",
    "        tk.Label(result_window, text=result_text, font=(\"Helvetica\", 12)).pack(padx=10, pady=10)\n",
    "\n",
    "\n",
    "def main():\n",
    "    root = tk.Tk()\n",
    "    app = QazaNamazCounterApp(root)\n",
    "    root.mainloop()\n",
    "\n",
    "\n",
    "if __name__ == \"__main__\":\n",
    "    main()\n"
   ]
  },
  {
   "cell_type": "markdown",
   "metadata": {},
   "source": [
    "## Input date"
   ]
  },
  {
   "cell_type": "code",
   "execution_count": null,
   "metadata": {},
   "outputs": [],
   "source": [
    "pip install datetime"
   ]
  },
  {
   "cell_type": "code",
   "execution_count": null,
   "metadata": {},
   "outputs": [],
   "source": [
    "import tkinter as tk\n",
    "from tkinter import ttk\n",
    "from datetime import datetime, timedelta\n",
    "\n",
    "class QazaNamazCounterApp:\n",
    "    def __init__(self, master):\n",
    "        self.master = master\n",
    "        self.master.title(\"Qaza Namaz Counter\")\n",
    "\n",
    "        # Variables to store the counts and dates\n",
    "        self.start_date_var = tk.StringVar()\n",
    "        self.end_date_var = tk.StringVar()\n",
    "        self.fajr_count = tk.IntVar()\n",
    "        self.dhuhr_count = tk.IntVar()\n",
    "        self.asr_count = tk.IntVar()\n",
    "        self.maghrib_count = tk.IntVar()\n",
    "        self.isha_count = tk.IntVar()\n",
    "\n",
    "        # Create and pack widgets\n",
    "        tk.Label(master, text=\"Qaza Namaz Counter\", font=(\"Helvetica\", 16)).grid(row=0, column=0, columnspan=2, pady=10)\n",
    "\n",
    "        tk.Label(master, text=\"Start Date:\").grid(row=1, column=0)\n",
    "        tk.Entry(master, textvariable=self.start_date_var).grid(row=1, column=1)\n",
    "\n",
    "        tk.Label(master, text=\"End Date:\").grid(row=2, column=0)\n",
    "        tk.Entry(master, textvariable=self.end_date_var).grid(row=2, column=1)\n",
    "\n",
    "        tk.Label(master, text=\"Fajr:\").grid(row=3, column=0)\n",
    "        tk.Entry(master, textvariable=self.fajr_count).grid(row=3, column=1)\n",
    "\n",
    "        tk.Label(master, text=\"Dhuhr:\").grid(row=4, column=0)\n",
    "        tk.Entry(master, textvariable=self.dhuhr_count).grid(row=4, column=1)\n",
    "\n",
    "        tk.Label(master, text=\"Asr:\").grid(row=5, column=0)\n",
    "        tk.Entry(master, textvariable=self.asr_count).grid(row=5, column=1)\n",
    "\n",
    "        tk.Label(master, text=\"Maghrib:\").grid(row=6, column=0)\n",
    "        tk.Entry(master, textvariable=self.maghrib_count).grid(row=6, column=1)\n",
    "\n",
    "        tk.Label(master, text=\"Isha:\").grid(row=7, column=0)\n",
    "        tk.Entry(master, textvariable=self.isha_count).grid(row=7, column=1)\n",
    "\n",
    "        tk.Button(master, text=\"Calculate\", command=self.calculate_counts).grid(row=8, column=0, columnspan=2, pady=10)\n",
    "\n",
    "    def calculate_counts(self):\n",
    "        # Retrieve dates\n",
    "        start_date_str = self.start_date_var.get()\n",
    "        end_date_str = self.end_date_var.get()\n",
    "\n",
    "        try:\n",
    "            start_date = datetime.strptime(start_date_str, \"%Y-%m-%d\").date()\n",
    "            end_date = datetime.strptime(end_date_str, \"%Y-%m-%d\").date()\n",
    "        except ValueError:\n",
    "            tk.messagebox.showerror(\"Error\", \"Invalid date format. Please use YYYY-MM-DD.\")\n",
    "            return\n",
    "\n",
    "        # Calculate the number of days between start and end dates\n",
    "        delta = end_date - start_date\n",
    "        num_days = delta.days + 1  # Including the end date\n",
    "\n",
    "        # Set the counts based on the number of days\n",
    "        self.fajr_count.set(num_days)\n",
    "        self.dhuhr_count.set(num_days)\n",
    "        self.asr_count.set(num_days)\n",
    "        self.maghrib_count.set(num_days)\n",
    "        self.isha_count.set(num_days)\n",
    "\n",
    "def main():\n",
    "    root = tk.Tk()\n",
    "    app = QazaNamazCounterApp(root)\n",
    "    root.mainloop()\n",
    "\n",
    "if __name__ == \"__main__\":\n",
    "    main()\n"
   ]
  },
  {
   "cell_type": "markdown",
   "metadata": {},
   "source": [
    "## To Execute the app to .exe app in windows, macos, or linux"
   ]
  },
  {
   "cell_type": "code",
   "execution_count": 1,
   "metadata": {},
   "outputs": [
    {
     "name": "stdout",
     "output_type": "stream",
     "text": [
      "Requirement already satisfied: pyinstaller in c:\\users\\shaheer ali\\appdata\\local\\programs\\python\\python311\\lib\\site-packages (6.2.0)\n",
      "Requirement already satisfied: setuptools>=42.0.0 in c:\\users\\shaheer ali\\appdata\\local\\programs\\python\\python311\\lib\\site-packages (from pyinstaller) (65.5.0)\n",
      "Requirement already satisfied: altgraph in c:\\users\\shaheer ali\\appdata\\local\\programs\\python\\python311\\lib\\site-packages (from pyinstaller) (0.17.4)\n",
      "Requirement already satisfied: pyinstaller-hooks-contrib>=2021.4 in c:\\users\\shaheer ali\\appdata\\local\\programs\\python\\python311\\lib\\site-packages (from pyinstaller) (2023.10)\n",
      "Requirement already satisfied: packaging>=22.0 in c:\\users\\shaheer ali\\appdata\\local\\programs\\python\\python311\\lib\\site-packages (from pyinstaller) (23.2)\n",
      "Requirement already satisfied: pefile>=2022.5.30 in c:\\users\\shaheer ali\\appdata\\local\\programs\\python\\python311\\lib\\site-packages (from pyinstaller) (2023.2.7)\n",
      "Requirement already satisfied: pywin32-ctypes>=0.2.1 in c:\\users\\shaheer ali\\appdata\\local\\programs\\python\\python311\\lib\\site-packages (from pyinstaller) (0.2.2)\n",
      "Note: you may need to restart the kernel to use updated packages.\n"
     ]
    },
    {
     "name": "stderr",
     "output_type": "stream",
     "text": [
      "\n",
      "[notice] A new release of pip available: 22.3.1 -> 23.3.1\n",
      "[notice] To update, run: python.exe -m pip install --upgrade pip\n"
     ]
    }
   ],
   "source": [
    "pip install pyinstaller"
   ]
  },
  {
   "cell_type": "code",
   "execution_count": null,
   "metadata": {},
   "outputs": [],
   "source": [
    "import pyinstaller\n",
    "pyinstaller --onefile 123.py"
   ]
  }
 ],
 "metadata": {
  "kernelspec": {
   "display_name": "Python 3",
   "language": "python",
   "name": "python3"
  },
  "language_info": {
   "codemirror_mode": {
    "name": "ipython",
    "version": 3
   },
   "file_extension": ".py",
   "mimetype": "text/x-python",
   "name": "python",
   "nbconvert_exporter": "python",
   "pygments_lexer": "ipython3",
   "version": "3.11.2"
  }
 },
 "nbformat": 4,
 "nbformat_minor": 2
}
