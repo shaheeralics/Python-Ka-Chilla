{
 "cells": [
  {
   "cell_type": "code",
   "execution_count": 12,
   "metadata": {},
   "outputs": [
    {
     "ename": "ModuleNotFoundError",
     "evalue": "No module named 'svg2ico'",
     "output_type": "error",
     "traceback": [
      "\u001b[1;31m---------------------------------------------------------------------------\u001b[0m",
      "\u001b[1;31mModuleNotFoundError\u001b[0m                       Traceback (most recent call last)",
      "Cell \u001b[1;32mIn[12], line 3\u001b[0m\n\u001b[0;32m      1\u001b[0m \u001b[38;5;28;01mimport\u001b[39;00m \u001b[38;5;21;01mtkinter\u001b[39;00m \u001b[38;5;28;01mas\u001b[39;00m \u001b[38;5;21;01mtk\u001b[39;00m\n\u001b[0;32m      2\u001b[0m \u001b[38;5;28;01mfrom\u001b[39;00m \u001b[38;5;21;01mtkinter\u001b[39;00m \u001b[38;5;28;01mimport\u001b[39;00m filedialog\n\u001b[1;32m----> 3\u001b[0m \u001b[38;5;28;01mimport\u001b[39;00m \u001b[38;5;21;01msvg2ico\u001b[39;00m\n\u001b[0;32m      5\u001b[0m \u001b[38;5;28;01mdef\u001b[39;00m \u001b[38;5;21mbrowse_file\u001b[39m():\n\u001b[0;32m      6\u001b[0m     svg_file_path \u001b[38;5;241m=\u001b[39m filedialog\u001b[38;5;241m.\u001b[39maskopenfilename(title\u001b[38;5;241m=\u001b[39m\u001b[38;5;124m\"\u001b[39m\u001b[38;5;124mSelect SVG file\u001b[39m\u001b[38;5;124m\"\u001b[39m, filetypes\u001b[38;5;241m=\u001b[39m((\u001b[38;5;124m\"\u001b[39m\u001b[38;5;124mSVG files\u001b[39m\u001b[38;5;124m\"\u001b[39m, \u001b[38;5;124m\"\u001b[39m\u001b[38;5;124m*.svg\u001b[39m\u001b[38;5;124m\"\u001b[39m), (\u001b[38;5;124m\"\u001b[39m\u001b[38;5;124mAll files\u001b[39m\u001b[38;5;124m\"\u001b[39m, \u001b[38;5;124m\"\u001b[39m\u001b[38;5;124m*.*\u001b[39m\u001b[38;5;124m\"\u001b[39m)))\n",
      "\u001b[1;31mModuleNotFoundError\u001b[0m: No module named 'svg2ico'"
     ]
    }
   ],
   "source": [
    "import tkinter as tk\n",
    "from tkinter import filedialog\n",
    "import svg2ico\n",
    "\n",
    "def browse_file():\n",
    "    svg_file_path = filedialog.askopenfilename(title=\"Select SVG file\", filetypes=((\"SVG files\", \"*.svg\"), (\"All files\", \"*.*\")))\n",
    "    if svg_file_path:\n",
    "        selected_file_label.config(text=svg_file_path)\n",
    "\n",
    "def convert_to_ico():\n",
    "    svg_file_path = selected_file_label.cget(\"text\")\n",
    "    if svg_file_path:\n",
    "        ico_file_path = svg_file_path.rsplit(\".\", 1)[0] + \".ico\"\n",
    "        svg2ico.createico([svg_file_path], ico_file_path)\n",
    "        status_label.config(text=f\"Conversion successful! ICO file saved as:\\n{ico_file_path}\")\n",
    "    else:\n",
    "        status_label.config(text=\"No file selected.\")\n",
    "\n",
    "# Create the main window\n",
    "root = tk.Tk()\n",
    "root.title(\"SVG to ICO Converter\")\n",
    "\n",
    "# Create and pack widgets\n",
    "browse_button = tk.Button(root, text=\"Browse\", command=browse_file)\n",
    "browse_button.pack(pady=10)\n",
    "\n",
    "selected_file_label = tk.Label(root, text=\"\")\n",
    "selected_file_label.pack(pady=5)\n",
    "\n",
    "convert_button = tk.Button(root, text=\"Convert\", command=convert_to_ico)\n",
    "convert_button.pack(pady=5)\n",
    "\n",
    "status_label = tk.Label(root, text=\"\")\n",
    "status_label.pack(pady=5)\n",
    "\n",
    "# Run the application\n",
    "root.mainloop()\n"
   ]
  }
 ],
 "metadata": {
  "kernelspec": {
   "display_name": "tf_env",
   "language": "python",
   "name": "python3"
  },
  "language_info": {
   "codemirror_mode": {
    "name": "ipython",
    "version": 3
   },
   "file_extension": ".py",
   "mimetype": "text/x-python",
   "name": "python",
   "nbconvert_exporter": "python",
   "pygments_lexer": "ipython3",
   "version": "3.9.18"
  }
 },
 "nbformat": 4,
 "nbformat_minor": 2
}
